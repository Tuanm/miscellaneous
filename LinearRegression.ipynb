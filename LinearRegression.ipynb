{
  "nbformat": 4,
  "nbformat_minor": 0,
  "metadata": {
    "colab": {
      "name": "LinearRegression.ipynb",
      "provenance": [],
      "collapsed_sections": [],
      "authorship_tag": "ABX9TyPdGNHGr0E/QcxFQm8UE29S"
    },
    "kernelspec": {
      "name": "python3",
      "display_name": "Python 3"
    }
  },
  "cells": [
    {
      "cell_type": "code",
      "metadata": {
        "id": "KxZMtR9qTe1X",
        "colab_type": "code",
        "colab": {}
      },
      "source": [
        "import numpy as np\n",
        "import matplotlib.pyplot as plt\n",
        "\n",
        "import math\n"
      ],
      "execution_count": 1,
      "outputs": []
    },
    {
      "cell_type": "code",
      "metadata": {
        "id": "nsT_qKCkHpaN",
        "colab_type": "code",
        "colab": {}
      },
      "source": [
        "def get(file):\n",
        "\n",
        "\tdata = None\n",
        "\twith open(file, \"r\") as f:\n",
        "\t\tdata = f.readlines()\n",
        "\n",
        "\tx, y = np.array([], dtype='f'), np.array([], dtype='f')\n",
        "\tfor d in data:\n",
        "\t\td = np.array(d.split(' '), dtype='f')\n",
        "\t\tx = np.append(x, d[0])\n",
        "\t\ty = np.append(y, d[1])\n",
        "\n",
        "\treturn x, y\n",
        "\n",
        "\n",
        "\n",
        "def linreg(x, y):\n",
        "\n",
        "\tX = np.array([x]).T\n",
        "\tone = np.ones((X.shape[0], 1)) # create a single-column matrix\n",
        "\t                               # where every element is 1\n",
        "\tXbar = np.concatenate((one, X), axis=1) # Xbar = [1 X]\n",
        "\tA = np.dot(Xbar.T, Xbar) # A = Xbar.T * Xbar\n",
        "\tb = np.dot(Xbar.T, y[:7]) # b = Xbar.T * y\n",
        "\tAinv = np.linalg.pinv(A) # pseudo inversion of A\n",
        "\tw = np.dot(Ainv, b)\n",
        "\n",
        "\tdef f(x):\n",
        "\t\treturn x * w[1] + w[0]\n",
        "\n",
        "\treturn f\n"
      ],
      "execution_count": 2,
      "outputs": []
    },
    {
      "cell_type": "markdown",
      "metadata": {
        "id": "g0pEjfajHyGh",
        "colab_type": "text"
      },
      "source": [
        "`data.csv`\n",
        "\n",
        "| Height | Weight |\n",
        "|--------|--------|\n",
        "| 147 | 49 |\n",
        "| 150 | 50 |\n",
        "| 153 | 51 |\n",
        "| 158 | 54 |\n",
        "| 163 | 58 |\n",
        "| 165 | 59 |\n",
        "| 168 | 60 |\n",
        "| 170 | 62 |\n",
        "| 173 | 63 |\n",
        "| 175 | 64 |\n",
        "| 178 | 66 |\n",
        "| 180 | 67 |\n",
        "| 183 | 68 |\n"
      ]
    },
    {
      "cell_type": "code",
      "metadata": {
        "id": "l9bBQAVD8nRz",
        "colab_type": "code",
        "colab": {}
      },
      "source": [
        "x, y = get(\"data.csv\")\n",
        "f = linreg(x[:6], y[:6])"
      ],
      "execution_count": 3,
      "outputs": []
    },
    {
      "cell_type": "code",
      "metadata": {
        "id": "QpmRhvwxC4Cj",
        "colab_type": "code",
        "colab": {
          "base_uri": "https://localhost:8080/",
          "height": 295
        },
        "outputId": "b643d225-465e-4c16-be48-b79ceba20349"
      },
      "source": [
        "plt.plot(x, y, \"ro\", label=\"data\")\n",
        "plt.plot(x, f(x), \"go--\", label=\"model\")\n",
        "plt.title(\"Example\")\n",
        "plt.xlabel(\"height (cm)\")\n",
        "plt.ylabel(\"weight (kg)\")\n",
        "plt.legend() # show label\n",
        "plt.show()"
      ],
      "execution_count": 8,
      "outputs": [
        {
          "output_type": "display_data",
          "data": {
            "image/png": "[encoded data removed]",
            "text/plain": [
              "<Figure size 432x288 with 1 Axes>"
            ]
          },
          "metadata": {
            "tags": [],
            "needs_background": "light"
          }
        }
      ]
    },
    {
      "cell_type": "code",
      "metadata": {
        "id": "h3RgsB4ODDas",
        "colab_type": "code",
        "colab": {
          "base_uri": "https://localhost:8080/",
          "height": 279
        },
        "outputId": "026efb9b-8a91-4abc-8bca-af6fa76e9130"
      },
      "source": [
        "n = len(x)\n",
        "plt.plot(x, [abs(y[i] - f(x[i])) for i in range(n)], \"ro--\", label=\"error\")\n",
        "plt.xlabel(\"Height\")\n",
        "plt.ylabel(\"Error\")\n",
        "plt.legend()\n",
        "plt.show()"
      ],
      "execution_count": 5,
      "outputs": [
        {
          "output_type": "display_data",
          "data": {
            "image/png": "[encoded data removed]",
            "text/plain": [
              "<Figure size 432x288 with 1 Axes>"
            ]
          },
          "metadata": {
            "tags": [],
            "needs_background": "light"
          }
        }
      ]
    },
    {
      "cell_type": "code",
      "metadata": {
        "id": "jPM90lspGLKC",
        "colab_type": "code",
        "colab": {}
      },
      "source": [
        ""
      ],
      "execution_count": null,
      "outputs": []
    }
  ]
}